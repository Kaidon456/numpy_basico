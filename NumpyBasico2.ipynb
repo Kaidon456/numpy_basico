{
 "cells": [
  {
   "cell_type": "code",
   "execution_count": 3,
   "id": "7c961fae-b0b2-47e8-b6a5-9ffea05e99bd",
   "metadata": {},
   "outputs": [
    {
     "data": {
      "text/plain": [
       "23"
      ]
     },
     "execution_count": 3,
     "metadata": {},
     "output_type": "execute_result"
    }
   ],
   "source": [
    "import numpy as np\n",
    "import random\n",
    "random.randint(0,100)"
   ]
  },
  {
   "cell_type": "code",
   "execution_count": 4,
   "id": "2963a34c-a4b4-4bda-91b7-72925f2c603b",
   "metadata": {},
   "outputs": [
    {
     "name": "stdout",
     "output_type": "stream",
     "text": [
      "Números aleatorios entre [0,1) de tamaño  2,2\n",
      "[[0.75812831 0.86762007 0.45839544 0.07459292 0.41329088]\n",
      " [0.1265607  0.02408987 0.03796617 0.98770602 0.83438014]\n",
      " [0.91126124 0.80909522 0.72326253 0.81632952 0.49958884]]\n"
     ]
    }
   ],
   "source": [
    "import numpy as np\n",
    "print(\"Números aleatorios entre [0,1) de tamaño  2,2\")\n",
    "print(np.random.rand(3,5))"
   ]
  },
  {
   "cell_type": "code",
   "execution_count": 5,
   "id": "6de2166b-8c07-463a-bac3-30d999755c97",
   "metadata": {},
   "outputs": [
    {
     "name": "stdout",
     "output_type": "stream",
     "text": [
      "Números aleatorios de una distribución normal con media=0 y varianza=1 de tamaño 2,2\n",
      "[[ 0.36566806  0.66322197]\n",
      " [-0.77217207  0.18420271]]\n"
     ]
    }
   ],
   "source": [
    "print(\"Números aleatorios de una distribución normal con media=0 y varianza=1 de tamaño 2,2\")\n",
    "print(np.random.randn(2,2))"
   ]
  },
  {
   "cell_type": "code",
   "execution_count": 6,
   "id": "c11df1e7-1768-4393-9ea0-ce912b2970f2",
   "metadata": {},
   "outputs": [
    {
     "name": "stdout",
     "output_type": "stream",
     "text": [
      "Enteros aleatorios entre [0,100) de tamaño 5,5\n",
      "[[46 17 85 10  3]\n",
      " [ 9 79 91 27  2]\n",
      " [76 56 58 75 61]\n",
      " [86 34 11 27 44]\n",
      " [49 20 42 62 41]]\n"
     ]
    }
   ],
   "source": [
    "print(\"Enteros aleatorios entre [0,100) de tamaño 5,5\")\n",
    "print(np.random.randint(0, 100, size=[5,5]))"
   ]
  },
  {
   "cell_type": "code",
   "execution_count": 7,
   "id": "ebbf5af4-e23f-408a-9f1b-68bbf0c17e22",
   "metadata": {},
   "outputs": [
    {
     "name": "stdout",
     "output_type": "stream",
     "text": [
      "Genera un número aleatorio entre [0,1)\n",
      "0.8714962337190547\n"
     ]
    }
   ],
   "source": [
    "print(\"Genera un número aleatorio entre [0,1)\")\n",
    "print(np.random.random())"
   ]
  },
  {
   "cell_type": "code",
   "execution_count": 8,
   "id": "2280c79b-97e0-4a4d-ba8c-d1e0ea462444",
   "metadata": {},
   "outputs": [
    {
     "name": "stdout",
     "output_type": "stream",
     "text": [
      "Elige 10 elementos de una lista (los resultados son equiprobables)\n",
      "['Sol' 'Cara' 'Sol' 'Sol' 'Cara' 'Cara' 'Sol' 'Cara' 'Cara' 'Sol']\n"
     ]
    }
   ],
   "source": [
    "print(\"Elige 10 elementos de una lista (los resultados son equiprobables)\")\n",
    "print(np.random.choice(['Cara', 'Sol'], size=10))"
   ]
  },
  {
   "cell_type": "code",
   "execution_count": 9,
   "id": "a462f15a-843d-48de-a816-9b870386d4bb",
   "metadata": {},
   "outputs": [
    {
     "name": "stdout",
     "output_type": "stream",
     "text": [
      "[[0.54340494 0.27836939]\n",
      " [0.42451759 0.84477613]]\n"
     ]
    }
   ],
   "source": [
    "# ponemos una semilla 100 para reproducibilidad\n",
    "np.random.seed(100)\n",
    "print(np.random.rand(2,2))"
   ]
  },
  {
   "cell_type": "code",
   "execution_count": 10,
   "id": "33678dde-4210-4803-981c-e1a8a2237490",
   "metadata": {},
   "outputs": [
    {
     "data": {
      "text/plain": [
       "array([5, 8, 9, 5, 0, 0, 1, 7, 6, 9, 2, 4, 5, 2, 4, 2, 4, 7, 7, 9, 1, 7,\n",
       "       0, 6, 9, 9, 7, 6, 9, 1, 0, 1, 8, 8, 3, 9, 8, 7, 3, 6, 5, 1, 9, 3,\n",
       "       4, 8, 1, 4, 0, 3, 9, 2, 0, 4, 9, 2, 7, 7, 9, 8, 6, 9, 3, 7, 7, 4,\n",
       "       5, 9, 3, 6, 8, 0, 2, 7, 7, 9, 7, 3, 0, 8, 7, 7, 1, 1, 3, 0, 8, 6,\n",
       "       4, 5, 6, 2, 5, 7, 8, 4, 4, 7, 7, 4])"
      ]
     },
     "execution_count": 10,
     "metadata": {},
     "output_type": "execute_result"
    }
   ],
   "source": [
    "np.random.seed(1)\n",
    "arr_rand = np.random.randint(0, 10, size=100)\n",
    "arr_rand"
   ]
  },
  {
   "cell_type": "code",
   "execution_count": 11,
   "id": "4c41bda8-23bf-4b7d-a933-27c3df1adf37",
   "metadata": {},
   "outputs": [
    {
     "name": "stdout",
     "output_type": "stream",
     "text": [
      "Elementos únicos:  [0 1 2 3 4 5 6 7 8 9]\n",
      "Frecuencias      : [ 9  8  7  8 11  7  8 18 10 14]\n"
     ]
    }
   ],
   "source": [
    "vals_unicos, frecuencias = np.unique(arr_rand, return_counts=True)\n",
    "print(\"Elementos únicos: \", vals_unicos)\n",
    "print(\"Frecuencias      :\", frecuencias)"
   ]
  },
  {
   "cell_type": "code",
   "execution_count": null,
   "id": "d446a8bd-1ba5-4355-8cd9-1fd6107bbb2c",
   "metadata": {},
   "outputs": [],
   "source": []
  }
 ],
 "metadata": {
  "kernelspec": {
   "display_name": "Python 3 (ipykernel)",
   "language": "python",
   "name": "python3"
  },
  "language_info": {
   "codemirror_mode": {
    "name": "ipython",
    "version": 3
   },
   "file_extension": ".py",
   "mimetype": "text/x-python",
   "name": "python",
   "nbconvert_exporter": "python",
   "pygments_lexer": "ipython3",
   "version": "3.12.3"
  }
 },
 "nbformat": 4,
 "nbformat_minor": 5
}
